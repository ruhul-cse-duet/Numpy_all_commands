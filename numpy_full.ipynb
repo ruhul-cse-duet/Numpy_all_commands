{
 "cells": [
  {
   "cell_type": "code",
   "execution_count": 1,
   "id": "1a6c6f5d-afa2-41f2-b808-fb9f3e341ba4",
   "metadata": {},
   "outputs": [],
   "source": [
    "import numpy as np"
   ]
  },
  {
   "cell_type": "code",
   "execution_count": 2,
   "id": "d6ee2f26-87c6-4c68-a55d-5fd7976016c0",
   "metadata": {},
   "outputs": [
    {
     "name": "stdout",
     "output_type": "stream",
     "text": [
      "[4, 5, 6, 7]\n"
     ]
    }
   ],
   "source": [
    "a=[4,5,6,7]\n",
    "print(a)"
   ]
  },
  {
   "cell_type": "code",
   "execution_count": 3,
   "id": "1983f228-254f-4383-8edc-f4c46e352faa",
   "metadata": {},
   "outputs": [
    {
     "data": {
      "text/plain": [
       "array([4, 5, 6, 7])"
      ]
     },
     "execution_count": 3,
     "metadata": {},
     "output_type": "execute_result"
    }
   ],
   "source": [
    "npa=np.array(a) # LIST TO ARRAY CONVERTED\n",
    "npa"
   ]
  },
  {
   "cell_type": "code",
   "execution_count": 4,
   "id": "211ee793-6ae4-4d66-852e-c3343a4c2e46",
   "metadata": {},
   "outputs": [
    {
     "data": {
      "text/plain": [
       "numpy.ndarray"
      ]
     },
     "execution_count": 4,
     "metadata": {},
     "output_type": "execute_result"
    }
   ],
   "source": [
    "type(npa)"
   ]
  },
  {
   "cell_type": "code",
   "execution_count": 5,
   "id": "6bb1298d-173e-4339-b8db-24500fa3be5e",
   "metadata": {},
   "outputs": [
    {
     "name": "stdout",
     "output_type": "stream",
     "text": [
      "4\n"
     ]
    }
   ],
   "source": [
    "print(npa.size) # array size showing"
   ]
  },
  {
   "cell_type": "code",
   "execution_count": 6,
   "id": "f0ba2b0e-fcc9-4a5c-820b-00e1f31a7cdc",
   "metadata": {},
   "outputs": [
    {
     "data": {
      "text/plain": [
       "5"
      ]
     },
     "execution_count": 6,
     "metadata": {},
     "output_type": "execute_result"
    }
   ],
   "source": [
    "npa[1]"
   ]
  },
  {
   "cell_type": "code",
   "execution_count": 7,
   "id": "c7d05f76-fafc-4495-81cf-eeb59c99299d",
   "metadata": {},
   "outputs": [
    {
     "data": {
      "text/plain": [
       "array([4, 5, 6, 7])"
      ]
     },
     "execution_count": 7,
     "metadata": {},
     "output_type": "execute_result"
    }
   ],
   "source": [
    "npa[::]"
   ]
  },
  {
   "cell_type": "code",
   "execution_count": 8,
   "id": "9ff4e289-9e7d-4a7f-a71f-11c774f0daa1",
   "metadata": {},
   "outputs": [
    {
     "data": {
      "text/plain": [
       "array([6, 7])"
      ]
     },
     "execution_count": 8,
     "metadata": {},
     "output_type": "execute_result"
    }
   ],
   "source": [
    "npa[2:] # index 2 to last index"
   ]
  },
  {
   "cell_type": "code",
   "execution_count": 9,
   "id": "a522401a-9d3a-4467-bc5d-458cb374e5c6",
   "metadata": {},
   "outputs": [
    {
     "data": {
      "text/plain": [
       "array([4, 5, 6])"
      ]
     },
     "execution_count": 9,
     "metadata": {},
     "output_type": "execute_result"
    }
   ],
   "source": [
    "npa[:3] # show index (3-1=2)"
   ]
  },
  {
   "cell_type": "code",
   "execution_count": 10,
   "id": "ef0f3bb1-28fb-4461-ac91-b7cf035bb489",
   "metadata": {},
   "outputs": [
    {
     "data": {
      "text/plain": [
       "7"
      ]
     },
     "execution_count": 10,
     "metadata": {},
     "output_type": "execute_result"
    }
   ],
   "source": [
    "npa[-1]"
   ]
  },
  {
   "cell_type": "code",
   "execution_count": 11,
   "id": "469878e8-5e27-4872-afb7-500a4b93362d",
   "metadata": {},
   "outputs": [
    {
     "data": {
      "text/plain": [
       "array([5, 6])"
      ]
     },
     "execution_count": 11,
     "metadata": {},
     "output_type": "execute_result"
    }
   ],
   "source": [
    "npa[-3:-1]"
   ]
  },
  {
   "cell_type": "code",
   "execution_count": 12,
   "id": "e7119e71-b164-4014-a69a-aeb4c3180421",
   "metadata": {},
   "outputs": [
    {
     "data": {
      "text/plain": [
       "array([0., 0., 0., 0., 0., 0., 0., 0., 0., 0.])"
      ]
     },
     "execution_count": 12,
     "metadata": {},
     "output_type": "execute_result"
    }
   ],
   "source": [
    "np.zeros(10) # floating number"
   ]
  },
  {
   "cell_type": "code",
   "execution_count": 13,
   "id": "a7c62ee2-679d-4bfa-aa69-62148e6dd96d",
   "metadata": {},
   "outputs": [
    {
     "data": {
      "text/plain": [
       "array([0, 0, 0, 0, 0])"
      ]
     },
     "execution_count": 13,
     "metadata": {},
     "output_type": "execute_result"
    }
   ],
   "source": [
    "np.zeros((5),dtype='int32') # integer number "
   ]
  },
  {
   "cell_type": "code",
   "execution_count": 14,
   "id": "3b04ffdd-10f4-4183-a860-345279e09eda",
   "metadata": {},
   "outputs": [
    {
     "data": {
      "text/plain": [
       "array([1., 1., 1., 1., 1., 1., 1., 1., 1., 1.])"
      ]
     },
     "execution_count": 14,
     "metadata": {},
     "output_type": "execute_result"
    }
   ],
   "source": [
    "np.ones(10) # floating number"
   ]
  },
  {
   "cell_type": "code",
   "execution_count": 15,
   "id": "4378cba0-f585-45b1-8c45-2d8308c2c4a4",
   "metadata": {},
   "outputs": [
    {
     "data": {
      "text/plain": [
       "array([1, 1, 1, 1, 1])"
      ]
     },
     "execution_count": 15,
     "metadata": {},
     "output_type": "execute_result"
    }
   ],
   "source": [
    "np.ones((5),dtype='int32') # integer number "
   ]
  },
  {
   "cell_type": "code",
   "execution_count": 16,
   "id": "04b2d439-6606-469f-a5eb-2790c4ab0f2d",
   "metadata": {},
   "outputs": [
    {
     "data": {
      "text/plain": [
       "array([[1, 1, 1, 1, 1, 1, 1, 1],\n",
       "       [1, 1, 1, 1, 1, 1, 1, 1]])"
      ]
     },
     "execution_count": 16,
     "metadata": {},
     "output_type": "execute_result"
    }
   ],
   "source": [
    "np.ones((2,8),dtype='int32')"
   ]
  },
  {
   "cell_type": "code",
   "execution_count": 17,
   "id": "de08bf45-c383-448b-9b9a-f07438cc7c36",
   "metadata": {},
   "outputs": [
    {
     "data": {
      "text/plain": [
       "array([[1, 1, 1, 1, 1, 1, 1, 1],\n",
       "       [1, 1, 1, 1, 1, 1, 1, 1],\n",
       "       [1, 1, 1, 1, 1, 1, 1, 1],\n",
       "       [1, 1, 1, 1, 1, 1, 1, 1],\n",
       "       [1, 1, 1, 1, 1, 1, 1, 1]])"
      ]
     },
     "execution_count": 17,
     "metadata": {},
     "output_type": "execute_result"
    }
   ],
   "source": [
    "np.ones((5,8),dtype='int32')"
   ]
  },
  {
   "cell_type": "code",
   "execution_count": 18,
   "id": "5c6aadb1-973d-4cc8-a020-a4bc2fd6363b",
   "metadata": {},
   "outputs": [
    {
     "data": {
      "text/plain": [
       "array([[20, 20, 20, 20, 20, 20, 20, 20],\n",
       "       [20, 20, 20, 20, 20, 20, 20, 20],\n",
       "       [20, 20, 20, 20, 20, 20, 20, 20],\n",
       "       [20, 20, 20, 20, 20, 20, 20, 20],\n",
       "       [20, 20, 20, 20, 20, 20, 20, 20]])"
      ]
     },
     "execution_count": 18,
     "metadata": {},
     "output_type": "execute_result"
    }
   ],
   "source": [
    "ar=np.full((5,8),20) # any number print\n",
    "ar"
   ]
  },
  {
   "cell_type": "code",
   "execution_count": 19,
   "id": "1e19e167-a7a8-46fc-9067-ee2a45382118",
   "metadata": {},
   "outputs": [
    {
     "data": {
      "text/plain": [
       "20"
      ]
     },
     "execution_count": 19,
     "metadata": {},
     "output_type": "execute_result"
    }
   ],
   "source": [
    "ar[0][1]"
   ]
  },
  {
   "cell_type": "code",
   "execution_count": 20,
   "id": "994186cd-6626-4fca-be97-00ae93c9f25c",
   "metadata": {},
   "outputs": [
    {
     "data": {
      "text/plain": [
       "array([ 0,  1,  2,  3,  4,  5,  6,  7,  8,  9, 10, 11, 12, 13, 14, 15, 16,\n",
       "       17, 18, 19, 20, 21, 22, 23, 24, 25, 26, 27, 28, 29, 30, 31, 32, 33,\n",
       "       34, 35, 36, 37, 38, 39, 40, 41, 42, 43, 44, 45, 46, 47, 48, 49])"
      ]
     },
     "execution_count": 20,
     "metadata": {},
     "output_type": "execute_result"
    }
   ],
   "source": [
    "ag=np.arange(0,50)\n",
    "ag"
   ]
  },
  {
   "cell_type": "code",
   "execution_count": 21,
   "id": "8dd28cde-e25e-4c96-b5b3-9ddeab04e6de",
   "metadata": {},
   "outputs": [
    {
     "data": {
      "text/plain": [
       "array([ 0,  2,  4,  6,  8, 10, 12, 14, 16, 18, 20, 22, 24, 26, 28, 30, 32,\n",
       "       34, 36, 38, 40, 42, 44, 46, 48])"
      ]
     },
     "execution_count": 21,
     "metadata": {},
     "output_type": "execute_result"
    }
   ],
   "source": [
    "ag=np.arange(0,50,2)\n",
    "ag"
   ]
  },
  {
   "cell_type": "code",
   "execution_count": 22,
   "id": "a9c3c5e4-075a-4ccd-817e-e6bd8520b06f",
   "metadata": {},
   "outputs": [
    {
     "data": {
      "text/plain": [
       "array([[ 0,  2,  4,  6,  8],\n",
       "       [10, 12, 14, 16, 18],\n",
       "       [20, 22, 24, 26, 28],\n",
       "       [30, 32, 34, 36, 38],\n",
       "       [40, 42, 44, 46, 48]])"
      ]
     },
     "execution_count": 22,
     "metadata": {},
     "output_type": "execute_result"
    }
   ],
   "source": [
    "ag.shape=(5,5)\n",
    "ag"
   ]
  },
  {
   "cell_type": "code",
   "execution_count": 23,
   "id": "80919cef-491e-48fd-af0d-27f35f6964c1",
   "metadata": {},
   "outputs": [
    {
     "data": {
      "text/plain": [
       "24"
      ]
     },
     "execution_count": 23,
     "metadata": {},
     "output_type": "execute_result"
    }
   ],
   "source": [
    "ag[2,2]"
   ]
  },
  {
   "cell_type": "code",
   "execution_count": 24,
   "id": "eb07b73f-f9bf-4c60-8811-7f4bd81c4a01",
   "metadata": {},
   "outputs": [
    {
     "data": {
      "text/plain": [
       "28"
      ]
     },
     "execution_count": 24,
     "metadata": {},
     "output_type": "execute_result"
    }
   ],
   "source": [
    " ag[2,4] # row=2, col=4"
   ]
  },
  {
   "cell_type": "code",
   "execution_count": 25,
   "id": "dfb5255a-9ec0-4fd0-87de-df5a8f3f01aa",
   "metadata": {},
   "outputs": [
    {
     "data": {
      "text/plain": [
       "array([[10, 12, 14, 16, 18],\n",
       "       [30, 32, 34, 36, 38],\n",
       "       [40, 42, 44, 46, 48]])"
      ]
     },
     "execution_count": 25,
     "metadata": {},
     "output_type": "execute_result"
    }
   ],
   "source": [
    "ag[[1,3,4]] #row= 1,3,4"
   ]
  },
  {
   "cell_type": "code",
   "execution_count": 26,
   "id": "189a04b0-6fe8-4f8f-a753-9312f4b65b0b",
   "metadata": {},
   "outputs": [
    {
     "data": {
      "text/plain": [
       "array([[ 2,  6],\n",
       "       [12, 16],\n",
       "       [22, 26],\n",
       "       [32, 36],\n",
       "       [42, 46]])"
      ]
     },
     "execution_count": 26,
     "metadata": {},
     "output_type": "execute_result"
    }
   ],
   "source": [
    "ag[:,[1,3]] #col=1,3"
   ]
  },
  {
   "cell_type": "code",
   "execution_count": 27,
   "id": "512c36d8-7ef3-4be3-9bcf-f48e4dac49be",
   "metadata": {},
   "outputs": [
    {
     "data": {
      "text/plain": [
       "array([[ 0,  2,  4,  6,  8],\n",
       "       [10, 12, 14, 16, 18],\n",
       "       [20, 22, 24, 26, 28],\n",
       "       [30, 32, 34, 36, 38],\n",
       "       [40, 42, 44, 46, 48]])"
      ]
     },
     "execution_count": 27,
     "metadata": {},
     "output_type": "execute_result"
    }
   ],
   "source": [
    "ag"
   ]
  },
  {
   "cell_type": "code",
   "execution_count": 28,
   "id": "a577f9b7-9c04-4a8c-8118-b2231ea40e71",
   "metadata": {},
   "outputs": [
    {
     "data": {
      "text/plain": [
       "array([[0.61177252, 0.46655673, 0.79074603],\n",
       "       [0.30507731, 0.22523637, 0.24812098]])"
      ]
     },
     "execution_count": 28,
     "metadata": {},
     "output_type": "execute_result"
    }
   ],
   "source": [
    "np.random.rand(2,3)"
   ]
  },
  {
   "cell_type": "code",
   "execution_count": 29,
   "id": "0ed1c777-840c-4a56-8122-5ddd5528dcf0",
   "metadata": {},
   "outputs": [
    {
     "data": {
      "text/plain": [
       "array([39, 20,  4, 49, 43])"
      ]
     },
     "execution_count": 29,
     "metadata": {},
     "output_type": "execute_result"
    }
   ],
   "source": [
    "np.random.randint(2,50,5)"
   ]
  },
  {
   "cell_type": "code",
   "execution_count": 30,
   "id": "c85f148c-1867-46d1-8c51-4e82fbb69bd8",
   "metadata": {},
   "outputs": [
    {
     "data": {
      "text/plain": [
       "array([[31, 29, 65],\n",
       "       [32, 25, 71],\n",
       "       [51, 78, 32]])"
      ]
     },
     "execution_count": 30,
     "metadata": {},
     "output_type": "execute_result"
    }
   ],
   "source": [
    "np.random.randint(10,100,size=(3,3))"
   ]
  },
  {
   "cell_type": "code",
   "execution_count": 31,
   "id": "4db767a9-8cc0-4f8d-8bef-2654dd8e7c0d",
   "metadata": {},
   "outputs": [
    {
     "data": {
      "text/plain": [
       "array([[45, 74, 37, 25, 14],\n",
       "       [98, 86, 74, 93, 40],\n",
       "       [47, 93, 91, 57, 94],\n",
       "       [38, 56, 93, 49, 88]])"
      ]
     },
     "execution_count": 31,
     "metadata": {},
     "output_type": "execute_result"
    }
   ],
   "source": [
    "arr=np.random.randint(10,100,size=(4,5))\n",
    "arr"
   ]
  },
  {
   "cell_type": "code",
   "execution_count": 32,
   "id": "c33903ea-e2e8-4ceb-8b0d-b2659ea47bb9",
   "metadata": {},
   "outputs": [
    {
     "data": {
      "text/plain": [
       "91"
      ]
     },
     "execution_count": 32,
     "metadata": {},
     "output_type": "execute_result"
    }
   ],
   "source": [
    "arr[2,2]"
   ]
  },
  {
   "cell_type": "code",
   "execution_count": 33,
   "id": "ffb58cc8-136d-490f-96ea-536d19b1f329",
   "metadata": {},
   "outputs": [
    {
     "data": {
      "text/plain": [
       "array([[98, 86, 74, 93, 40],\n",
       "       [38, 56, 93, 49, 88]])"
      ]
     },
     "execution_count": 33,
     "metadata": {},
     "output_type": "execute_result"
    }
   ],
   "source": [
    "arr[[1,3]]"
   ]
  },
  {
   "cell_type": "code",
   "execution_count": 34,
   "id": "660d5220-9d7a-4828-90a5-bbb57fe40cd0",
   "metadata": {},
   "outputs": [
    {
     "data": {
      "text/plain": [
       "array([[74, 25],\n",
       "       [86, 93],\n",
       "       [93, 57],\n",
       "       [56, 49]])"
      ]
     },
     "execution_count": 34,
     "metadata": {},
     "output_type": "execute_result"
    }
   ],
   "source": [
    "arr[:,[1,3]]"
   ]
  },
  {
   "cell_type": "code",
   "execution_count": 35,
   "id": "c321e9f4-e15c-418a-90ec-e0ffb113cce6",
   "metadata": {},
   "outputs": [],
   "source": [
    "num = np.linspace(5,10,10)"
   ]
  },
  {
   "cell_type": "code",
   "execution_count": 36,
   "id": "53e3f2dc-9c87-4393-9c53-06344c42b386",
   "metadata": {},
   "outputs": [
    {
     "data": {
      "text/plain": [
       "array([ 5.        ,  5.55555556,  6.11111111,  6.66666667,  7.22222222,\n",
       "        7.77777778,  8.33333333,  8.88888889,  9.44444444, 10.        ])"
      ]
     },
     "execution_count": 36,
     "metadata": {},
     "output_type": "execute_result"
    }
   ],
   "source": [
    "num"
   ]
  },
  {
   "cell_type": "code",
   "execution_count": 37,
   "id": "54aaa43c-5e63-4011-98d6-1c914bc03226",
   "metadata": {},
   "outputs": [],
   "source": [
    "n=np.linspace(2,4,20,retstep=True)"
   ]
  },
  {
   "cell_type": "code",
   "execution_count": 38,
   "id": "03bc663e-e438-4f86-a02e-5f943ad8a230",
   "metadata": {},
   "outputs": [
    {
     "data": {
      "text/plain": [
       "(array([2.        , 2.10526316, 2.21052632, 2.31578947, 2.42105263,\n",
       "        2.52631579, 2.63157895, 2.73684211, 2.84210526, 2.94736842,\n",
       "        3.05263158, 3.15789474, 3.26315789, 3.36842105, 3.47368421,\n",
       "        3.57894737, 3.68421053, 3.78947368, 3.89473684, 4.        ]),\n",
       " 0.10526315789473684)"
      ]
     },
     "execution_count": 38,
     "metadata": {},
     "output_type": "execute_result"
    }
   ],
   "source": [
    "n"
   ]
  },
  {
   "cell_type": "code",
   "execution_count": 39,
   "id": "8c4ced13-9ed3-4d5a-9f99-90a69ba3dfea",
   "metadata": {},
   "outputs": [
    {
     "data": {
      "text/plain": [
       "array([[ 0,  2,  4,  6,  8],\n",
       "       [10, 12, 14, 16, 18],\n",
       "       [20, 22, 24, 26, 28],\n",
       "       [30, 32, 34, 36, 38],\n",
       "       [40, 42, 44, 46, 48]])"
      ]
     },
     "execution_count": 39,
     "metadata": {},
     "output_type": "execute_result"
    }
   ],
   "source": [
    "ag"
   ]
  },
  {
   "cell_type": "code",
   "execution_count": 40,
   "id": "1b6ef561-60b7-4f2d-8a5b-d3a4f810d7c7",
   "metadata": {},
   "outputs": [
    {
     "data": {
      "text/plain": [
       "array([[ 0, 10, 20, 30, 40],\n",
       "       [ 2, 12, 22, 32, 42],\n",
       "       [ 4, 14, 24, 34, 44],\n",
       "       [ 6, 16, 26, 36, 46],\n",
       "       [ 8, 18, 28, 38, 48]])"
      ]
     },
     "execution_count": 40,
     "metadata": {},
     "output_type": "execute_result"
    }
   ],
   "source": [
    "ag.transpose()"
   ]
  },
  {
   "cell_type": "code",
   "execution_count": 41,
   "id": "7e5f4b74-712a-4fcf-88f8-23449861b15a",
   "metadata": {},
   "outputs": [
    {
     "data": {
      "text/plain": [
       "array([ 0,  2,  4,  6,  8, 10, 12, 14, 16, 18, 20, 22, 24, 26, 28, 30, 32,\n",
       "       34, 36, 38, 40, 42, 44, 46, 48])"
      ]
     },
     "execution_count": 41,
     "metadata": {},
     "output_type": "execute_result"
    }
   ],
   "source": [
    " ag.flatten()"
   ]
  },
  {
   "cell_type": "code",
   "execution_count": 42,
   "id": "e18f9c75-866a-463a-ac65-b9e401f65ee1",
   "metadata": {},
   "outputs": [
    {
     "data": {
      "text/plain": [
       "array([ 0,  2,  4,  6,  8, 10, 12, 14, 16, 18, 20, 22, 24, 26, 28, 30, 32,\n",
       "       34, 36, 38, 40, 42, 44, 46, 48])"
      ]
     },
     "execution_count": 42,
     "metadata": {},
     "output_type": "execute_result"
    }
   ],
   "source": [
    "ag.ravel()"
   ]
  },
  {
   "cell_type": "code",
   "execution_count": 43,
   "id": "0ab36acc-e45f-4a64-9f54-bb2e60123bf1",
   "metadata": {},
   "outputs": [],
   "source": [
    "a=np.arange(0,18).reshape(6,3)\n",
    "b=np.arange(18,36).reshape(6,3)"
   ]
  },
  {
   "cell_type": "code",
   "execution_count": 44,
   "id": "6689f109-c21c-4bac-a2f3-52b15a352c2b",
   "metadata": {},
   "outputs": [
    {
     "data": {
      "text/plain": [
       "array([[ 0,  1,  2],\n",
       "       [ 3,  4,  5],\n",
       "       [ 6,  7,  8],\n",
       "       [ 9, 10, 11],\n",
       "       [12, 13, 14],\n",
       "       [15, 16, 17]])"
      ]
     },
     "execution_count": 44,
     "metadata": {},
     "output_type": "execute_result"
    }
   ],
   "source": [
    "a"
   ]
  },
  {
   "cell_type": "code",
   "execution_count": 45,
   "id": "e4c91295-a186-450b-98dc-325796efa507",
   "metadata": {},
   "outputs": [
    {
     "data": {
      "text/plain": [
       "array([[18, 19, 20],\n",
       "       [21, 22, 23],\n",
       "       [24, 25, 26],\n",
       "       [27, 28, 29],\n",
       "       [30, 31, 32],\n",
       "       [33, 34, 35]])"
      ]
     },
     "execution_count": 45,
     "metadata": {},
     "output_type": "execute_result"
    }
   ],
   "source": [
    "b"
   ]
  },
  {
   "cell_type": "code",
   "execution_count": 46,
   "id": "6fdb2a1d-4cce-44a0-93b7-e5c87a188977",
   "metadata": {},
   "outputs": [
    {
     "data": {
      "text/plain": [
       "array([[18, 20, 22],\n",
       "       [24, 26, 28],\n",
       "       [30, 32, 34],\n",
       "       [36, 38, 40],\n",
       "       [42, 44, 46],\n",
       "       [48, 50, 52]])"
      ]
     },
     "execution_count": 46,
     "metadata": {},
     "output_type": "execute_result"
    }
   ],
   "source": [
    "np.add(a,b)"
   ]
  },
  {
   "cell_type": "code",
   "execution_count": 47,
   "id": "eec24549-ce08-4fc0-916d-06945c13c906",
   "metadata": {},
   "outputs": [
    {
     "data": {
      "text/plain": [
       "array([[-18, -18, -18],\n",
       "       [-18, -18, -18],\n",
       "       [-18, -18, -18],\n",
       "       [-18, -18, -18],\n",
       "       [-18, -18, -18],\n",
       "       [-18, -18, -18]])"
      ]
     },
     "execution_count": 47,
     "metadata": {},
     "output_type": "execute_result"
    }
   ],
   "source": [
    "np.subtract(a,b)"
   ]
  },
  {
   "cell_type": "code",
   "execution_count": 48,
   "id": "aded4285-cab6-4a0a-9c67-24c135b41820",
   "metadata": {},
   "outputs": [
    {
     "data": {
      "text/plain": [
       "array([[18, 18, 18],\n",
       "       [18, 18, 18],\n",
       "       [18, 18, 18],\n",
       "       [18, 18, 18],\n",
       "       [18, 18, 18],\n",
       "       [18, 18, 18]])"
      ]
     },
     "execution_count": 48,
     "metadata": {},
     "output_type": "execute_result"
    }
   ],
   "source": [
    "b-a"
   ]
  },
  {
   "cell_type": "code",
   "execution_count": 49,
   "id": "76040442-fc04-4acd-9bbe-f1330246bdc7",
   "metadata": {},
   "outputs": [
    {
     "data": {
      "text/plain": [
       "array([[  0,  19,  40],\n",
       "       [ 63,  88, 115],\n",
       "       [144, 175, 208],\n",
       "       [243, 280, 319],\n",
       "       [360, 403, 448],\n",
       "       [495, 544, 595]])"
      ]
     },
     "execution_count": 49,
     "metadata": {},
     "output_type": "execute_result"
    }
   ],
   "source": [
    "a*b"
   ]
  },
  {
   "cell_type": "code",
   "execution_count": 50,
   "id": "66631043-3f73-48d9-a102-4e6e166201c5",
   "metadata": {},
   "outputs": [
    {
     "name": "stderr",
     "output_type": "stream",
     "text": [
      "C:\\Users\\Administrator\\AppData\\Local\\Temp\\ipykernel_11672\\3421666983.py:1: RuntimeWarning: divide by zero encountered in divide\n",
      "  np.divide(b,a)\n"
     ]
    },
    {
     "data": {
      "text/plain": [
       "array([[        inf, 19.        , 10.        ],\n",
       "       [ 7.        ,  5.5       ,  4.6       ],\n",
       "       [ 4.        ,  3.57142857,  3.25      ],\n",
       "       [ 3.        ,  2.8       ,  2.63636364],\n",
       "       [ 2.5       ,  2.38461538,  2.28571429],\n",
       "       [ 2.2       ,  2.125     ,  2.05882353]])"
      ]
     },
     "execution_count": 50,
     "metadata": {},
     "output_type": "execute_result"
    }
   ],
   "source": [
    "np.divide(b,a)"
   ]
  },
  {
   "cell_type": "code",
   "execution_count": 51,
   "id": "6da32050-f4b9-4be5-bdf1-b584aa7f9bfe",
   "metadata": {},
   "outputs": [
    {
     "data": {
      "text/plain": [
       "17"
      ]
     },
     "execution_count": 51,
     "metadata": {},
     "output_type": "execute_result"
    }
   ],
   "source": [
    "a.max()"
   ]
  },
  {
   "cell_type": "code",
   "execution_count": 52,
   "id": "cc243130-b00d-49f3-ba8d-b06f475df144",
   "metadata": {},
   "outputs": [
    {
     "data": {
      "text/plain": [
       "18"
      ]
     },
     "execution_count": 52,
     "metadata": {},
     "output_type": "execute_result"
    }
   ],
   "source": [
    "b.min()"
   ]
  },
  {
   "cell_type": "code",
   "execution_count": 53,
   "id": "808bfcc0-7bd8-4dd8-b9e8-5db22edad0ff",
   "metadata": {},
   "outputs": [
    {
     "data": {
      "text/plain": [
       "17"
      ]
     },
     "execution_count": 53,
     "metadata": {},
     "output_type": "execute_result"
    }
   ],
   "source": [
    "b.argmax()"
   ]
  },
  {
   "cell_type": "code",
   "execution_count": 54,
   "id": "8ba49b4b-bbb0-498d-b337-d9227a8b3feb",
   "metadata": {},
   "outputs": [
    {
     "data": {
      "text/plain": [
       "0"
      ]
     },
     "execution_count": 54,
     "metadata": {},
     "output_type": "execute_result"
    }
   ],
   "source": [
    "b.argmin()"
   ]
  },
  {
   "cell_type": "code",
   "execution_count": 55,
   "id": "e9a04531-cfc9-46fa-8d92-ec57f7c66fbb",
   "metadata": {},
   "outputs": [
    {
     "data": {
      "text/plain": [
       "17"
      ]
     },
     "execution_count": 55,
     "metadata": {},
     "output_type": "execute_result"
    }
   ],
   "source": [
    "a.argmax()"
   ]
  },
  {
   "cell_type": "code",
   "execution_count": 56,
   "id": "a684dc0e-7ad8-4da8-a870-d1f49023f4ec",
   "metadata": {},
   "outputs": [
    {
     "data": {
      "text/plain": [
       "153"
      ]
     },
     "execution_count": 56,
     "metadata": {},
     "output_type": "execute_result"
    }
   ],
   "source": [
    "np.sum(a)"
   ]
  },
  {
   "cell_type": "code",
   "execution_count": 57,
   "id": "345fee7c-9272-4d3f-9930-da744ab22934",
   "metadata": {},
   "outputs": [
    {
     "data": {
      "text/plain": [
       "array([[ 0,  1,  2],\n",
       "       [ 3,  4,  5],\n",
       "       [ 6,  7,  8],\n",
       "       [ 9, 10, 11],\n",
       "       [12, 13, 14],\n",
       "       [15, 16, 17]])"
      ]
     },
     "execution_count": 57,
     "metadata": {},
     "output_type": "execute_result"
    }
   ],
   "source": [
    "a"
   ]
  },
  {
   "cell_type": "code",
   "execution_count": 58,
   "id": "ec741795-82ec-4b65-bec3-b7e6ed81cb0a",
   "metadata": {},
   "outputs": [
    {
     "data": {
      "text/plain": [
       "array([ 3, 12, 21, 30, 39, 48])"
      ]
     },
     "execution_count": 58,
     "metadata": {},
     "output_type": "execute_result"
    }
   ],
   "source": [
    "np.sum(a,axis=1) # 1 mean row summation"
   ]
  },
  {
   "cell_type": "code",
   "execution_count": 59,
   "id": "dabab788-6871-4ea1-a096-f8117e2a3f6b",
   "metadata": {},
   "outputs": [
    {
     "data": {
      "text/plain": [
       "array([45, 51, 57])"
      ]
     },
     "execution_count": 59,
     "metadata": {},
     "output_type": "execute_result"
    }
   ],
   "source": [
    "np.sum(a, axis=0) # 0 mean col summation"
   ]
  },
  {
   "cell_type": "code",
   "execution_count": 60,
   "id": "7952e96b-8113-46f3-96dd-9e1545cc9d79",
   "metadata": {},
   "outputs": [
    {
     "data": {
      "text/plain": [
       "8.5"
      ]
     },
     "execution_count": 60,
     "metadata": {},
     "output_type": "execute_result"
    }
   ],
   "source": [
    "np.mean(a)"
   ]
  },
  {
   "cell_type": "code",
   "execution_count": 61,
   "id": "431aa771-d82b-4ff1-b2bc-2c6138e55887",
   "metadata": {},
   "outputs": [
    {
     "data": {
      "text/plain": [
       "array([[ 0,  1,  2],\n",
       "       [ 3,  4,  5],\n",
       "       [ 6,  7,  8],\n",
       "       [ 9, 10, 11],\n",
       "       [12, 13, 14],\n",
       "       [15, 16, 17]])"
      ]
     },
     "execution_count": 61,
     "metadata": {},
     "output_type": "execute_result"
    }
   ],
   "source": [
    "np.sort(a)"
   ]
  },
  {
   "cell_type": "code",
   "execution_count": 62,
   "id": "4e9010b3-b541-4d76-8a91-07f0be4eeffa",
   "metadata": {},
   "outputs": [
    {
     "data": {
      "text/plain": [
       "array([[18, 19, 20],\n",
       "       [21, 22, 23],\n",
       "       [24, 25, 26],\n",
       "       [27, 28, 29],\n",
       "       [30, 31, 32],\n",
       "       [33, 34, 35]])"
      ]
     },
     "execution_count": 62,
     "metadata": {},
     "output_type": "execute_result"
    }
   ],
   "source": [
    "np.sort(b)"
   ]
  },
  {
   "cell_type": "code",
   "execution_count": 63,
   "id": "4d028488-5180-48c7-be40-2163d5ae83a7",
   "metadata": {},
   "outputs": [
    {
     "data": {
      "text/plain": [
       "5.188127472091127"
      ]
     },
     "execution_count": 63,
     "metadata": {},
     "output_type": "execute_result"
    }
   ],
   "source": [
    "np.std(a)"
   ]
  },
  {
   "cell_type": "code",
   "execution_count": 64,
   "id": "00288976-1152-4f64-98ee-f7a9c6d4cb81",
   "metadata": {},
   "outputs": [
    {
     "data": {
      "text/plain": [
       "array([[2.89037176, 2.94443898, 2.99573227],\n",
       "       [3.04452244, 3.09104245, 3.13549422],\n",
       "       [3.17805383, 3.21887582, 3.25809654],\n",
       "       [3.29583687, 3.33220451, 3.36729583],\n",
       "       [3.40119738, 3.4339872 , 3.4657359 ],\n",
       "       [3.49650756, 3.52636052, 3.55534806]])"
      ]
     },
     "execution_count": 64,
     "metadata": {},
     "output_type": "execute_result"
    }
   ],
   "source": [
    "np.log(b)"
   ]
  },
  {
   "cell_type": "code",
   "execution_count": 65,
   "id": "441c2b21-a143-43a9-b975-d869a037e91d",
   "metadata": {},
   "outputs": [
    {
     "data": {
      "text/plain": [
       "3.141592653589793"
      ]
     },
     "execution_count": 65,
     "metadata": {},
     "output_type": "execute_result"
    }
   ],
   "source": [
    "np.pi"
   ]
  },
  {
   "cell_type": "code",
   "execution_count": 66,
   "id": "d57c0b51-73d3-4809-89b0-93fb3970db42",
   "metadata": {},
   "outputs": [
    {
     "data": {
      "text/plain": [
       "1.0"
      ]
     },
     "execution_count": 66,
     "metadata": {},
     "output_type": "execute_result"
    }
   ],
   "source": [
    "np.sin(np.pi/2)"
   ]
  },
  {
   "cell_type": "code",
   "execution_count": 67,
   "id": "01700fc5-406a-4563-896c-f12fdf53cbb0",
   "metadata": {},
   "outputs": [
    {
     "data": {
      "text/plain": [
       "0.8660254037844386"
      ]
     },
     "execution_count": 67,
     "metadata": {},
     "output_type": "execute_result"
    }
   ],
   "source": [
    "np.sin(np.pi/3)"
   ]
  },
  {
   "cell_type": "code",
   "execution_count": 68,
   "id": "3eb840f9-2f17-4751-88cf-9d96949f3f22",
   "metadata": {},
   "outputs": [
    {
     "data": {
      "text/plain": [
       "0.5000000000000001"
      ]
     },
     "execution_count": 68,
     "metadata": {},
     "output_type": "execute_result"
    }
   ],
   "source": [
    "np.cos(np.pi/3)"
   ]
  },
  {
   "cell_type": "code",
   "execution_count": 69,
   "id": "bcbc49a9-ca94-4811-b07b-5184ab16394a",
   "metadata": {},
   "outputs": [
    {
     "data": {
      "text/plain": [
       "array([ 0.        ,  0.09983342,  0.19866933,  0.29552021,  0.38941834,\n",
       "        0.47942554,  0.56464247,  0.64421769,  0.71735609,  0.78332691,\n",
       "        0.84147098,  0.89120736,  0.93203909,  0.96355819,  0.98544973,\n",
       "        0.99749499,  0.9995736 ,  0.99166481,  0.97384763,  0.94630009,\n",
       "        0.90929743,  0.86320937,  0.8084964 ,  0.74570521,  0.67546318,\n",
       "        0.59847214,  0.51550137,  0.42737988,  0.33498815,  0.23924933,\n",
       "        0.14112001,  0.04158066, -0.05837414, -0.15774569, -0.2555411 ,\n",
       "       -0.35078323, -0.44252044, -0.52983614, -0.61185789, -0.68776616,\n",
       "       -0.7568025 , -0.81827711, -0.87157577, -0.91616594, -0.95160207,\n",
       "       -0.97753012, -0.993691  , -0.99992326, -0.99616461, -0.98245261,\n",
       "       -0.95892427, -0.92581468, -0.88345466, -0.83226744, -0.77276449,\n",
       "       -0.70554033, -0.63126664, -0.55068554, -0.46460218, -0.37387666,\n",
       "       -0.2794155 , -0.1821625 , -0.0830894 ])"
      ]
     },
     "execution_count": 69,
     "metadata": {},
     "output_type": "execute_result"
    }
   ],
   "source": [
    "x_sin= np.arange(0,2*np.pi, 0.1)\n",
    "y_sin= np.sin(x_sin)\n",
    "y_sin"
   ]
  },
  {
   "cell_type": "code",
   "execution_count": 70,
   "id": "8b446325-0dea-4892-a8af-37a5675907ae",
   "metadata": {},
   "outputs": [],
   "source": [
    "import matplotlib.pyplot as plt"
   ]
  },
  {
   "cell_type": "code",
   "execution_count": 71,
   "id": "67d75d26-eeb1-407c-b6e8-10a84ee528f1",
   "metadata": {},
   "outputs": [
    {
     "data": {
      "image/png": "[encoded data removed]",
      "text/plain": [
       "<Figure size 600x600 with 1 Axes>"
      ]
     },
     "metadata": {},
     "output_type": "display_data"
    }
   ],
   "source": [
    "plt.figure(figsize=(6,6))\n",
    "plt.style.use(\"dark_background\")\n",
    "plt.plot(y_sin, color=\"red\", linestyle=\"--\")\n",
    "plt.title(\"Sin curve\")\n",
    "plt.show()"
   ]
  },
  {
   "cell_type": "code",
   "execution_count": 72,
   "id": "2caa81f1-48a2-41d9-be87-b27dfedb832e",
   "metadata": {},
   "outputs": [
    {
     "data": {
      "image/png": "[encoded data removed]",
      "text/plain": [
       "<Figure size 600x600 with 1 Axes>"
      ]
     },
     "metadata": {},
     "output_type": "display_data"
    }
   ],
   "source": [
    "y_sin= np.cos(x_sin)\n",
    "plt.figure(figsize=(6,6))\n",
    "plt.style.use(\"dark_background\")\n",
    "plt.plot(y_sin, color=\"red\", linestyle=\":\")\n",
    "plt.title(\"cos curve\")\n",
    "plt.show()"
   ]
  },
  {
   "cell_type": "code",
   "execution_count": 73,
   "id": "b6c60a4a-671d-433e-bf7a-e499d9c7705d",
   "metadata": {},
   "outputs": [
    {
     "data": {
      "image/png": "[encoded data removed]",
      "text/plain": [
       "<Figure size 600x600 with 1 Axes>"
      ]
     },
     "metadata": {},
     "output_type": "display_data"
    }
   ],
   "source": [
    "y_sin= np.tan(x_sin)\n",
    "plt.figure(figsize=(6,6))\n",
    "plt.style.use(\"dark_background\")\n",
    "plt.plot(y_sin, color=\"red\", linestyle=\":\")\n",
    "plt.title(\"tan curve\")\n",
    "plt.show()"
   ]
  },
  {
   "cell_type": "code",
   "execution_count": 74,
   "id": "2181566b-90a9-4710-8f5d-52d1b8484ae7",
   "metadata": {},
   "outputs": [],
   "source": [
    "s1 = \"my name is Ruhul Amin\"\n",
    "s2 = \" I am a DUETian\""
   ]
  },
  {
   "cell_type": "code",
   "execution_count": 75,
   "id": "03299bcd-f33a-4c13-afe5-af84786548d4",
   "metadata": {},
   "outputs": [
    {
     "data": {
      "text/plain": [
       "array('my name is Ruhul Amin I am a DUETian', dtype='<U36')"
      ]
     },
     "execution_count": 75,
     "metadata": {},
     "output_type": "execute_result"
    }
   ],
   "source": [
    "np.char.add(s1,s2)"
   ]
  },
  {
   "cell_type": "code",
   "execution_count": 76,
   "id": "e245ac0f-d17e-4529-87ca-60b50dd858d2",
   "metadata": {},
   "outputs": [
    {
     "data": {
      "text/plain": [
       "array('MY NAME IS RUHUL AMIN', dtype='<U21')"
      ]
     },
     "execution_count": 76,
     "metadata": {},
     "output_type": "execute_result"
    }
   ],
   "source": [
    "np.char.upper(s1)"
   ]
  },
  {
   "cell_type": "code",
   "execution_count": 77,
   "id": "25d05b8d-d9d5-4935-9d92-617d43136ad1",
   "metadata": {},
   "outputs": [
    {
     "data": {
      "text/plain": [
       "array('my name is ruhul amin', dtype='<U21')"
      ]
     },
     "execution_count": 77,
     "metadata": {},
     "output_type": "execute_result"
    }
   ],
   "source": [
    "np.char.lower(s1)"
   ]
  },
  {
   "cell_type": "code",
   "execution_count": 78,
   "id": "75c12887-7fa7-4f5d-a5aa-55a50ea253d1",
   "metadata": {},
   "outputs": [
    {
     "data": {
      "text/plain": [
       "array(list(['my', 'name', 'is', 'Ruhul', 'Amin']), dtype=object)"
      ]
     },
     "execution_count": 78,
     "metadata": {},
     "output_type": "execute_result"
    }
   ],
   "source": [
    "np.char.split(s1)"
   ]
  },
  {
   "cell_type": "code",
   "execution_count": 79,
   "id": "58ccc3c9-c166-478d-942d-f135046b02c5",
   "metadata": {},
   "outputs": [
    {
     "data": {
      "text/plain": [
       "array('my Name is Ruhul Amin', dtype='<U21')"
      ]
     },
     "execution_count": 79,
     "metadata": {},
     "output_type": "execute_result"
    }
   ],
   "source": [
    "np.char.replace(s1,\"name\", \"Name\")"
   ]
  },
  {
   "cell_type": "code",
   "execution_count": 80,
   "id": "019cdcb4-176a-44ca-b610-7c34e277337a",
   "metadata": {},
   "outputs": [
    {
     "data": {
      "text/plain": [
       "array('************************************Good bye************************************',\n",
       "      dtype='<U80')"
      ]
     },
     "execution_count": 80,
     "metadata": {},
     "output_type": "execute_result"
    }
   ],
   "source": [
    "np.char.center('Good bye', 80, '*')"
   ]
  },
  {
   "cell_type": "code",
   "execution_count": null,
   "id": "a4faaa64-21f1-4fb4-b86f-ce636c7937f3",
   "metadata": {},
   "outputs": [],
   "source": []
  }
 ],
 "metadata": {
  "kernelspec": {
   "display_name": "Python 3 (ipykernel)",
   "language": "python",
   "name": "python3"
  },
  "language_info": {
   "codemirror_mode": {
    "name": "ipython",
    "version": 3
   },
   "file_extension": ".py",
   "mimetype": "text/x-python",
   "name": "python",
   "nbconvert_exporter": "python",
   "pygments_lexer": "ipython3",
   "version": "3.12.5"
  }
 },
 "nbformat": 4,
 "nbformat_minor": 5
}
